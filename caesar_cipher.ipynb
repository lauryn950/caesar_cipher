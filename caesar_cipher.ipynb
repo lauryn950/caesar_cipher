{
  "nbformat": 4,
  "nbformat_minor": 0,
  "metadata": {
    "colab": {
      "name": "caesar_cipher.ipynb",
      "provenance": [],
      "authorship_tag": "ABX9TyMqH5RB+Vem80RsArJxNHMr"
    },
    "kernelspec": {
      "name": "python3",
      "display_name": "Python 3"
    },
    "language_info": {
      "name": "python"
    }
  },
  "cells": [
    {
      "cell_type": "code",
      "metadata": {
        "id": "ngbnS_uB1iJn"
      },
      "source": [
        "import math\n",
        "import numpy"
      ],
      "execution_count": 5,
      "outputs": []
    },
    {
      "cell_type": "code",
      "metadata": {
        "colab": {
          "base_uri": "https://localhost:8080/"
        },
        "id": "CXAYt4Uc18Cg",
        "outputId": "ec732f62-35d9-47bb-e092-a172ac2b6727"
      },
      "source": [
        "print(ord('A'))\n",
        "print(ord('a'))\n",
        "print(chr(65), chr(98), chr(65+25)) # uppercase alphabet shifted by ord('A')\n",
        "print(chr(97),chr(98),chr(97+25)) # lowercase alphabet shifted by ord('a')\n",
        "a='a'\n",
        "A='A'\n",
        "print(a.islower(), A.isupper()) # boolean functions"
      ],
      "execution_count": 22,
      "outputs": [
        {
          "output_type": "stream",
          "name": "stdout",
          "text": [
            "65\n",
            "97\n",
            "A b Z\n",
            "a b z\n",
            "True True\n"
          ]
        }
      ]
    },
    {
      "cell_type": "code",
      "metadata": {
        "id": "SYQ_63pNI_qA"
      },
      "source": [
        "def caesar_enc(plaintext, key):\n",
        "\n",
        "  ciphertext = ''\n",
        "  \n",
        "  for char in plaintext:\n",
        "\n",
        "    if char.isupper():\n",
        "\n",
        "      c = (ord(char) - ord('A') + key)%26 + ord('A') # shift char back > apply key+mod > shift forward to unicode\n",
        "\n",
        "      c_alph = chr(c)\n",
        "\n",
        "      ciphertext += c_alph\n",
        "    \n",
        "    elif char.islower():\n",
        "\n",
        "      c = (ord(char) - ord('a') + key)%26 + ord('a') # shift char back > apply key+mod shift forward to unicode\n",
        "\n",
        "      c_alph = chr(c)\n",
        "\n",
        "      ciphertext += c_alph\n",
        "\n",
        "    elif char.isdigit():\n",
        "\n",
        "      c = (int(char) + key)%10 #0,1,...,9 mod 10\n",
        "\n",
        "      c_str = str(c)\n",
        "\n",
        "      ciphertext += c_str\n",
        "\n",
        "\n",
        "    else:\n",
        "      \n",
        "      ciphertext += char #keep spaces, periods, etc like original casesar cipher\n",
        "\n",
        "  return ciphertext\n"
      ],
      "execution_count": 30,
      "outputs": []
    },
    {
      "cell_type": "code",
      "metadata": {
        "id": "ke84HzAQR3fN"
      },
      "source": [
        "def caesar_dec(ciphertext, key):\n",
        "\n",
        "  decrypted = ''\n",
        "\n",
        "  for char in ciphertext:\n",
        "    if char.isupper():\n",
        "\n",
        "      c = (ord(char) - ord('A') - key)%26 + ord('A') # shift char back > apply -key+mod > shift forward to unicode\n",
        "\n",
        "      c_alph = chr(c)\n",
        "\n",
        "      decrypted += c_alph\n",
        "    \n",
        "    elif char.islower():\n",
        "\n",
        "      c = (ord(char) - ord('a') - key)%26 + ord('a') # shift char back > apply key+mod shift forward to unicode\n",
        "\n",
        "      c_alph = chr(c)\n",
        "\n",
        "      decrypted += c_alph\n",
        "\n",
        "    elif char.isdigit():\n",
        "\n",
        "      c = (int(char) - key)%10 #0,1,...,9 mod 10\n",
        "\n",
        "      c_str = str(c)\n",
        "\n",
        "      decrypted += c_str\n",
        "\n",
        "\n",
        "    else:\n",
        "      \n",
        "      decrypted += char #keep spaces, periods, etc like original casesar cipher\n",
        "\n",
        "  return decrypted"
      ],
      "execution_count": 31,
      "outputs": []
    },
    {
      "cell_type": "code",
      "metadata": {
        "colab": {
          "base_uri": "https://localhost:8080/",
          "height": 52
        },
        "id": "QmL_vIL4RNyX",
        "outputId": "a2f0bf49-4590-4c56-9cac-d03ca251fc77"
      },
      "source": [
        "enc = caesar_enc('This is my plaintext',1)\n",
        "print(enc)\n",
        "caesar_dec(enc, 1)"
      ],
      "execution_count": 35,
      "outputs": [
        {
          "output_type": "stream",
          "name": "stdout",
          "text": [
            "Uijt jt nz qmbjoufyu\n"
          ]
        },
        {
          "output_type": "execute_result",
          "data": {
            "application/vnd.google.colaboratory.intrinsic+json": {
              "type": "string"
            },
            "text/plain": [
              "'This is my plaintext'"
            ]
          },
          "metadata": {},
          "execution_count": 35
        }
      ]
    }
  ]
}