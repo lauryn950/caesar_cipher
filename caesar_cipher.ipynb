{
  "nbformat": 4,
  "nbformat_minor": 0,
  "metadata": {
    "colab": {
      "name": "caesar_cipher.ipynb",
      "provenance": [],
      "authorship_tag": "ABX9TyM3/ZfL7kCGfi89SYTmuM0Q",
      "include_colab_link": true
    },
    "kernelspec": {
      "name": "python3",
      "display_name": "Python 3"
    },
    "language_info": {
      "name": "python"
    }
  },
  "cells": [
    {
      "cell_type": "markdown",
      "metadata": {
        "id": "view-in-github",
        "colab_type": "text"
      },
      "source": [
        "<a href=\"https://colab.research.google.com/github/lauryn950/caesar_cipher/blob/main/caesar_cipher.ipynb\" target=\"_parent\"><img src=\"https://colab.research.google.com/assets/colab-badge.svg\" alt=\"Open In Colab\"/></a>"
      ]
    },
    {
      "cell_type": "code",
      "metadata": {
        "id": "ngbnS_uB1iJn"
      },
      "source": [
        "import math\n",
        "import numpy"
      ],
      "execution_count": null,
      "outputs": []
    },
    {
      "cell_type": "code",
      "metadata": {
        "id": "SYQ_63pNI_qA"
      },
      "source": [
        "def caesar_enc(plaintext, key):\n",
        "\n",
        "  ciphertext = ''\n",
        "  \n",
        "  for char in plaintext:\n",
        "\n",
        "    if char.isupper():\n",
        "\n",
        "      c = (ord(char) - ord('A') + key)%26 + ord('A') # shift char back > apply key+mod > shift forward to unicode\n",
        "\n",
        "      c_alph = chr(c)\n",
        "\n",
        "      ciphertext += c_alph\n",
        "    \n",
        "    elif char.islower():\n",
        "\n",
        "      c = (ord(char) - ord('a') + key)%26 + ord('a') # shift char back > apply key+mod shift forward to unicode\n",
        "\n",
        "      c_alph = chr(c)\n",
        "\n",
        "      ciphertext += c_alph\n",
        "\n",
        "    elif char.isdigit():\n",
        "\n",
        "      c = (int(char) + key)%10 #0,1,...,9 mod 10\n",
        "\n",
        "      c_str = str(c)\n",
        "\n",
        "      ciphertext += c_str\n",
        "\n",
        "\n",
        "    else:\n",
        "      \n",
        "      ciphertext += char #keep spaces, periods, etc like original casesar cipher\n",
        "\n",
        "  return ciphertext\n"
      ],
      "execution_count": null,
      "outputs": []
    },
    {
      "cell_type": "code",
      "metadata": {
        "id": "ke84HzAQR3fN"
      },
      "source": [
        "def caesar_dec(ciphertext, key):\n",
        "\n",
        "  decrypted = ''\n",
        "\n",
        "  for char in ciphertext:\n",
        "    if char.isupper():\n",
        "\n",
        "      c = (ord(char) - ord('A') - key)%26 + ord('A') # shift char back > apply -key+mod > shift forward to unicode\n",
        "\n",
        "      c_alph = chr(c)\n",
        "\n",
        "      decrypted += c_alph\n",
        "    \n",
        "    elif char.islower():\n",
        "\n",
        "      c = (ord(char) - ord('a') - key)%26 + ord('a') # shift char back > apply key+mod shift forward to unicode\n",
        "\n",
        "      c_alph = chr(c)\n",
        "\n",
        "      decrypted += c_alph\n",
        "\n",
        "    elif char.isdigit():\n",
        "\n",
        "      c = (int(char) - key)%10 #0,1,...,9 mod 10\n",
        "\n",
        "      c_str = str(c)\n",
        "\n",
        "      decrypted += c_str\n",
        "\n",
        "\n",
        "    else:\n",
        "      \n",
        "      decrypted += char #keep spaces, periods, etc like original casesar cipher\n",
        "\n",
        "  return decrypted"
      ],
      "execution_count": null,
      "outputs": []
    },
    {
      "cell_type": "code",
      "metadata": {
        "colab": {
          "base_uri": "https://localhost:8080/",
          "height": 52
        },
        "id": "QmL_vIL4RNyX",
        "outputId": "a2f0bf49-4590-4c56-9cac-d03ca251fc77"
      },
      "source": [
        "enc = caesar_enc('This is my plaintext',1)\n",
        "print(enc)\n",
        "caesar_dec(enc, 1)"
      ],
      "execution_count": null,
      "outputs": [
        {
          "output_type": "stream",
          "name": "stdout",
          "text": [
            "Uijt jt nz qmbjoufyu\n"
          ]
        },
        {
          "output_type": "execute_result",
          "data": {
            "application/vnd.google.colaboratory.intrinsic+json": {
              "type": "string"
            },
            "text/plain": [
              "'This is my plaintext'"
            ]
          },
          "metadata": {},
          "execution_count": 35
        }
      ]
    }
  ]
}